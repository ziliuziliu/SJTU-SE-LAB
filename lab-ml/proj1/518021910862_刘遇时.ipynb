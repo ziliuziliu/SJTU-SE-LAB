{
 "cells": [
  {
   "cell_type": "markdown",
   "metadata": {},
   "source": [
    "# Machine Learning Project 1"
   ]
  },
  {
   "cell_type": "markdown",
   "metadata": {},
   "source": [
    "### 518021910862 刘遇时"
   ]
  },
  {
   "cell_type": "markdown",
   "metadata": {},
   "source": [
    "## Read and split"
   ]
  },
  {
   "cell_type": "code",
   "execution_count": 1,
   "metadata": {},
   "outputs": [],
   "source": [
    "import pandas as pd\n",
    "import numpy as np\n",
    "import matplotlib.pyplot as plt\n",
    "import math\n",
    "import time"
   ]
  },
  {
   "cell_type": "markdown",
   "metadata": {},
   "source": [
    "1. Read the original data:"
   ]
  },
  {
   "cell_type": "code",
   "execution_count": 2,
   "metadata": {},
   "outputs": [
    {
     "data": {
      "text/html": [
       "<div>\n",
       "<style scoped>\n",
       "    .dataframe tbody tr th:only-of-type {\n",
       "        vertical-align: middle;\n",
       "    }\n",
       "\n",
       "    .dataframe tbody tr th {\n",
       "        vertical-align: top;\n",
       "    }\n",
       "\n",
       "    .dataframe thead th {\n",
       "        text-align: right;\n",
       "    }\n",
       "</style>\n",
       "<table border=\"1\" class=\"dataframe\">\n",
       "  <thead>\n",
       "    <tr style=\"text-align: right;\">\n",
       "      <th></th>\n",
       "      <th>battery_power</th>\n",
       "      <th>blue</th>\n",
       "      <th>clock_speed</th>\n",
       "      <th>dual_sim</th>\n",
       "      <th>fc</th>\n",
       "      <th>four_g</th>\n",
       "      <th>int_memory</th>\n",
       "      <th>m_dep</th>\n",
       "      <th>mobile_wt</th>\n",
       "      <th>n_cores</th>\n",
       "      <th>...</th>\n",
       "      <th>px_height</th>\n",
       "      <th>px_width</th>\n",
       "      <th>ram</th>\n",
       "      <th>sc_h</th>\n",
       "      <th>sc_w</th>\n",
       "      <th>talk_time</th>\n",
       "      <th>three_g</th>\n",
       "      <th>touch_screen</th>\n",
       "      <th>wifi</th>\n",
       "      <th>price_range</th>\n",
       "    </tr>\n",
       "  </thead>\n",
       "  <tbody>\n",
       "    <tr>\n",
       "      <th>0</th>\n",
       "      <td>842</td>\n",
       "      <td>0</td>\n",
       "      <td>2.2</td>\n",
       "      <td>0</td>\n",
       "      <td>1</td>\n",
       "      <td>0</td>\n",
       "      <td>7</td>\n",
       "      <td>0.6</td>\n",
       "      <td>188</td>\n",
       "      <td>2</td>\n",
       "      <td>...</td>\n",
       "      <td>20</td>\n",
       "      <td>756</td>\n",
       "      <td>2549</td>\n",
       "      <td>9</td>\n",
       "      <td>7</td>\n",
       "      <td>19</td>\n",
       "      <td>0</td>\n",
       "      <td>0</td>\n",
       "      <td>1</td>\n",
       "      <td>1</td>\n",
       "    </tr>\n",
       "    <tr>\n",
       "      <th>1</th>\n",
       "      <td>1021</td>\n",
       "      <td>1</td>\n",
       "      <td>0.5</td>\n",
       "      <td>1</td>\n",
       "      <td>0</td>\n",
       "      <td>1</td>\n",
       "      <td>53</td>\n",
       "      <td>0.7</td>\n",
       "      <td>136</td>\n",
       "      <td>3</td>\n",
       "      <td>...</td>\n",
       "      <td>905</td>\n",
       "      <td>1988</td>\n",
       "      <td>2631</td>\n",
       "      <td>17</td>\n",
       "      <td>3</td>\n",
       "      <td>7</td>\n",
       "      <td>1</td>\n",
       "      <td>1</td>\n",
       "      <td>0</td>\n",
       "      <td>2</td>\n",
       "    </tr>\n",
       "    <tr>\n",
       "      <th>2</th>\n",
       "      <td>563</td>\n",
       "      <td>1</td>\n",
       "      <td>0.5</td>\n",
       "      <td>1</td>\n",
       "      <td>2</td>\n",
       "      <td>1</td>\n",
       "      <td>41</td>\n",
       "      <td>0.9</td>\n",
       "      <td>145</td>\n",
       "      <td>5</td>\n",
       "      <td>...</td>\n",
       "      <td>1263</td>\n",
       "      <td>1716</td>\n",
       "      <td>2603</td>\n",
       "      <td>11</td>\n",
       "      <td>2</td>\n",
       "      <td>9</td>\n",
       "      <td>1</td>\n",
       "      <td>1</td>\n",
       "      <td>0</td>\n",
       "      <td>2</td>\n",
       "    </tr>\n",
       "    <tr>\n",
       "      <th>3</th>\n",
       "      <td>615</td>\n",
       "      <td>1</td>\n",
       "      <td>2.5</td>\n",
       "      <td>0</td>\n",
       "      <td>0</td>\n",
       "      <td>0</td>\n",
       "      <td>10</td>\n",
       "      <td>0.8</td>\n",
       "      <td>131</td>\n",
       "      <td>6</td>\n",
       "      <td>...</td>\n",
       "      <td>1216</td>\n",
       "      <td>1786</td>\n",
       "      <td>2769</td>\n",
       "      <td>16</td>\n",
       "      <td>8</td>\n",
       "      <td>11</td>\n",
       "      <td>1</td>\n",
       "      <td>0</td>\n",
       "      <td>0</td>\n",
       "      <td>2</td>\n",
       "    </tr>\n",
       "    <tr>\n",
       "      <th>4</th>\n",
       "      <td>1821</td>\n",
       "      <td>1</td>\n",
       "      <td>1.2</td>\n",
       "      <td>0</td>\n",
       "      <td>13</td>\n",
       "      <td>1</td>\n",
       "      <td>44</td>\n",
       "      <td>0.6</td>\n",
       "      <td>141</td>\n",
       "      <td>2</td>\n",
       "      <td>...</td>\n",
       "      <td>1208</td>\n",
       "      <td>1212</td>\n",
       "      <td>1411</td>\n",
       "      <td>8</td>\n",
       "      <td>2</td>\n",
       "      <td>15</td>\n",
       "      <td>1</td>\n",
       "      <td>1</td>\n",
       "      <td>0</td>\n",
       "      <td>1</td>\n",
       "    </tr>\n",
       "    <tr>\n",
       "      <th>...</th>\n",
       "      <td>...</td>\n",
       "      <td>...</td>\n",
       "      <td>...</td>\n",
       "      <td>...</td>\n",
       "      <td>...</td>\n",
       "      <td>...</td>\n",
       "      <td>...</td>\n",
       "      <td>...</td>\n",
       "      <td>...</td>\n",
       "      <td>...</td>\n",
       "      <td>...</td>\n",
       "      <td>...</td>\n",
       "      <td>...</td>\n",
       "      <td>...</td>\n",
       "      <td>...</td>\n",
       "      <td>...</td>\n",
       "      <td>...</td>\n",
       "      <td>...</td>\n",
       "      <td>...</td>\n",
       "      <td>...</td>\n",
       "      <td>...</td>\n",
       "    </tr>\n",
       "    <tr>\n",
       "      <th>1995</th>\n",
       "      <td>794</td>\n",
       "      <td>1</td>\n",
       "      <td>0.5</td>\n",
       "      <td>1</td>\n",
       "      <td>0</td>\n",
       "      <td>1</td>\n",
       "      <td>2</td>\n",
       "      <td>0.8</td>\n",
       "      <td>106</td>\n",
       "      <td>6</td>\n",
       "      <td>...</td>\n",
       "      <td>1222</td>\n",
       "      <td>1890</td>\n",
       "      <td>668</td>\n",
       "      <td>13</td>\n",
       "      <td>4</td>\n",
       "      <td>19</td>\n",
       "      <td>1</td>\n",
       "      <td>1</td>\n",
       "      <td>0</td>\n",
       "      <td>0</td>\n",
       "    </tr>\n",
       "    <tr>\n",
       "      <th>1996</th>\n",
       "      <td>1965</td>\n",
       "      <td>1</td>\n",
       "      <td>2.6</td>\n",
       "      <td>1</td>\n",
       "      <td>0</td>\n",
       "      <td>0</td>\n",
       "      <td>39</td>\n",
       "      <td>0.2</td>\n",
       "      <td>187</td>\n",
       "      <td>4</td>\n",
       "      <td>...</td>\n",
       "      <td>915</td>\n",
       "      <td>1965</td>\n",
       "      <td>2032</td>\n",
       "      <td>11</td>\n",
       "      <td>10</td>\n",
       "      <td>16</td>\n",
       "      <td>1</td>\n",
       "      <td>1</td>\n",
       "      <td>1</td>\n",
       "      <td>2</td>\n",
       "    </tr>\n",
       "    <tr>\n",
       "      <th>1997</th>\n",
       "      <td>1911</td>\n",
       "      <td>0</td>\n",
       "      <td>0.9</td>\n",
       "      <td>1</td>\n",
       "      <td>1</td>\n",
       "      <td>1</td>\n",
       "      <td>36</td>\n",
       "      <td>0.7</td>\n",
       "      <td>108</td>\n",
       "      <td>8</td>\n",
       "      <td>...</td>\n",
       "      <td>868</td>\n",
       "      <td>1632</td>\n",
       "      <td>3057</td>\n",
       "      <td>9</td>\n",
       "      <td>1</td>\n",
       "      <td>5</td>\n",
       "      <td>1</td>\n",
       "      <td>1</td>\n",
       "      <td>0</td>\n",
       "      <td>3</td>\n",
       "    </tr>\n",
       "    <tr>\n",
       "      <th>1998</th>\n",
       "      <td>1512</td>\n",
       "      <td>0</td>\n",
       "      <td>0.9</td>\n",
       "      <td>0</td>\n",
       "      <td>4</td>\n",
       "      <td>1</td>\n",
       "      <td>46</td>\n",
       "      <td>0.1</td>\n",
       "      <td>145</td>\n",
       "      <td>5</td>\n",
       "      <td>...</td>\n",
       "      <td>336</td>\n",
       "      <td>670</td>\n",
       "      <td>869</td>\n",
       "      <td>18</td>\n",
       "      <td>10</td>\n",
       "      <td>19</td>\n",
       "      <td>1</td>\n",
       "      <td>1</td>\n",
       "      <td>1</td>\n",
       "      <td>0</td>\n",
       "    </tr>\n",
       "    <tr>\n",
       "      <th>1999</th>\n",
       "      <td>510</td>\n",
       "      <td>1</td>\n",
       "      <td>2.0</td>\n",
       "      <td>1</td>\n",
       "      <td>5</td>\n",
       "      <td>1</td>\n",
       "      <td>45</td>\n",
       "      <td>0.9</td>\n",
       "      <td>168</td>\n",
       "      <td>6</td>\n",
       "      <td>...</td>\n",
       "      <td>483</td>\n",
       "      <td>754</td>\n",
       "      <td>3919</td>\n",
       "      <td>19</td>\n",
       "      <td>4</td>\n",
       "      <td>2</td>\n",
       "      <td>1</td>\n",
       "      <td>1</td>\n",
       "      <td>1</td>\n",
       "      <td>3</td>\n",
       "    </tr>\n",
       "  </tbody>\n",
       "</table>\n",
       "<p>2000 rows × 21 columns</p>\n",
       "</div>"
      ],
      "text/plain": [
       "      battery_power  blue  clock_speed  dual_sim  fc  four_g  int_memory  \\\n",
       "0               842     0          2.2         0   1       0           7   \n",
       "1              1021     1          0.5         1   0       1          53   \n",
       "2               563     1          0.5         1   2       1          41   \n",
       "3               615     1          2.5         0   0       0          10   \n",
       "4              1821     1          1.2         0  13       1          44   \n",
       "...             ...   ...          ...       ...  ..     ...         ...   \n",
       "1995            794     1          0.5         1   0       1           2   \n",
       "1996           1965     1          2.6         1   0       0          39   \n",
       "1997           1911     0          0.9         1   1       1          36   \n",
       "1998           1512     0          0.9         0   4       1          46   \n",
       "1999            510     1          2.0         1   5       1          45   \n",
       "\n",
       "      m_dep  mobile_wt  n_cores  ...  px_height  px_width   ram  sc_h  sc_w  \\\n",
       "0       0.6        188        2  ...         20       756  2549     9     7   \n",
       "1       0.7        136        3  ...        905      1988  2631    17     3   \n",
       "2       0.9        145        5  ...       1263      1716  2603    11     2   \n",
       "3       0.8        131        6  ...       1216      1786  2769    16     8   \n",
       "4       0.6        141        2  ...       1208      1212  1411     8     2   \n",
       "...     ...        ...      ...  ...        ...       ...   ...   ...   ...   \n",
       "1995    0.8        106        6  ...       1222      1890   668    13     4   \n",
       "1996    0.2        187        4  ...        915      1965  2032    11    10   \n",
       "1997    0.7        108        8  ...        868      1632  3057     9     1   \n",
       "1998    0.1        145        5  ...        336       670   869    18    10   \n",
       "1999    0.9        168        6  ...        483       754  3919    19     4   \n",
       "\n",
       "      talk_time  three_g  touch_screen  wifi  price_range  \n",
       "0            19        0             0     1            1  \n",
       "1             7        1             1     0            2  \n",
       "2             9        1             1     0            2  \n",
       "3            11        1             0     0            2  \n",
       "4            15        1             1     0            1  \n",
       "...         ...      ...           ...   ...          ...  \n",
       "1995         19        1             1     0            0  \n",
       "1996         16        1             1     1            2  \n",
       "1997          5        1             1     0            3  \n",
       "1998         19        1             1     1            0  \n",
       "1999          2        1             1     1            3  \n",
       "\n",
       "[2000 rows x 21 columns]"
      ]
     },
     "execution_count": 2,
     "metadata": {},
     "output_type": "execute_result"
    }
   ],
   "source": [
    "data = pd.read_csv(\"train.csv\")\n",
    "data"
   ]
  },
  {
   "cell_type": "markdown",
   "metadata": {},
   "source": [
    "2. Split the data into 3 parts:"
   ]
  },
  {
   "cell_type": "code",
   "execution_count": 3,
   "metadata": {},
   "outputs": [],
   "source": [
    "price_train_data = data.truncate(before=0, after=1599)\n",
    "price_valid_data = data.truncate(before=1600, after=1799)\n",
    "price_test_data = data.truncate(before=1800, after=1999)"
   ]
  },
  {
   "cell_type": "markdown",
   "metadata": {},
   "source": [
    "## Naive Bayesian "
   ]
  },
  {
   "cell_type": "markdown",
   "metadata": {},
   "source": [
    "1. Data preprocessing"
   ]
  },
  {
   "cell_type": "markdown",
   "metadata": {},
   "source": [
    "According to our observation, 4 attributes need to be discretized: battery_power, px_height, px_width, ram. Accroding to our material, the problem is tranformed to a 2-class Classification problem. Naive Bayesian Classification do not need a valid testset: since it's not suffered from the problem of overfitting."
   ]
  },
  {
   "cell_type": "code",
   "execution_count": 4,
   "metadata": {},
   "outputs": [],
   "source": [
    "def NB_preprocess(x):\n",
    "    x['battery_power'] = x['battery_power'].map(lambda x: x//40)\n",
    "    x['px_height'] = x['px_height'].map(lambda x: x//40)\n",
    "    x['px_width'] = x['px_width'].map(lambda x: x//40)\n",
    "    x['ram'] = x['ram'].map(lambda x: x//80)\n",
    "    x['price_range'] = x['price_range'].map(lambda x: x//2)\n",
    "    return x\n",
    "NB_train_data = NB_preprocess(pd.concat([price_train_data, price_valid_data]))"
   ]
  },
  {
   "cell_type": "markdown",
   "metadata": {},
   "source": [
    "2. Model Implementation"
   ]
  },
  {
   "cell_type": "code",
   "execution_count": 5,
   "metadata": {},
   "outputs": [],
   "source": [
    "def NB_train(train):\n",
    "    prior = train['price_range'].value_counts(normalize=True)\n",
    "    phone0 = train.loc[lambda train: train['price_range'] == 0]\n",
    "    phone1 = train.loc[lambda train: train['price_range'] == 1]\n",
    "    \n",
    "    cond0 = pd.DataFrame(columns=phone0.columns)\n",
    "    attr_kind0 = pd.Series(index=phone0.columns, dtype=np.int)\n",
    "    for attribute,row in phone0.iteritems():\n",
    "        if attribute == 'price_range':\n",
    "            break\n",
    "        row_percentage = row.value_counts(normalize=True)\n",
    "        for num,value in row_percentage.items():\n",
    "            cond0.loc[num, attribute] = value\n",
    "        attr_kind0.loc[attribute] = len(row.value_counts())\n",
    "    cond0 = cond0.fillna(0)\n",
    "    \n",
    "    cond1 = pd.DataFrame(columns=phone1.columns)\n",
    "    attr_kind1 = pd.Series(index=phone1.columns, dtype=np.int)\n",
    "    for attribute,row in phone1.iteritems():\n",
    "        if attribute == 'price_range':\n",
    "            break\n",
    "        row_percentage = row.value_counts(normalize=True)\n",
    "        for num,value in row_percentage.items():\n",
    "            cond1.loc[num, attribute] = value\n",
    "        attr_kind1.loc[attribute] = len(row.value_counts())\n",
    "    cond1 = cond1.fillna(0)\n",
    "    return (prior, cond0, cond1, attr_kind0, attr_kind1)\n",
    "start_time = time.time()\n",
    "(NB_prior, NB_cond0, NB_cond1, NB_attr_kind0, NB_attr_kind1) = NB_train(NB_train_data)"
   ]
  },
  {
   "cell_type": "markdown",
   "metadata": {},
   "source": [
    "3. Predict!"
   ]
  },
  {
   "cell_type": "code",
   "execution_count": 6,
   "metadata": {},
   "outputs": [
    {
     "name": "stdout",
     "output_type": "stream",
     "text": [
      "Training Set Correction Rate: 95.06%\n",
      "Test Set Correction Rate: 92.50%\n",
      "Time: 3.396934 second\n"
     ]
    }
   ],
   "source": [
    "def NB_predict(data, prior, cond0, cond1, attr_kind0, attr_kind1):\n",
    "    data.loc['battery_power'] = data.loc['battery_power'] // 40\n",
    "    data.loc['px_height'] = data.loc['px_height'] // 40\n",
    "    data.loc['px_width'] = data.loc['px_width'] // 40\n",
    "    data.loc['ram'] = data.loc['ram'] // 80\n",
    "    cnt0 = 2000*prior[0]\n",
    "    cnt1 = 2000*prior[1]\n",
    "    possibility0 = math.log(prior[0])\n",
    "    for attribute,value in data.items():\n",
    "        if attribute == 'price_range':\n",
    "            break\n",
    "        ret = cond0.loc[value, attribute]\n",
    "        if ret == 0:\n",
    "            possibility0 -= math.log(1800+attr_kind0[attribute])\n",
    "        else:\n",
    "            possibility0 += math.log(ret)\n",
    "    possibility1 = math.log(prior[1])\n",
    "    for attribute,value in data.items():\n",
    "        if attribute == 'price_range':\n",
    "            break\n",
    "        ret = cond1.loc[value, attribute]\n",
    "        if ret == 0:\n",
    "            possibility1 -= math.log(1800+attr_kind1[attribute])\n",
    "        else:\n",
    "            possibility1 += math.log(ret)\n",
    "    if possibility0 > possibility1:\n",
    "        return 0\n",
    "    else:\n",
    "        return 1\n",
    "total = len(NB_train_data.index)\n",
    "correct = 0\n",
    "train_set = pd.concat([price_train_data, price_valid_data])\n",
    "for index,data in train_set.iterrows():\n",
    "    predict = NB_predict(data, NB_prior, NB_cond0, NB_cond1, NB_attr_kind0, NB_attr_kind1)\n",
    "    if predict == data['price_range'] // 2:\n",
    "        correct += 1\n",
    "NB_train_correction_rate = correct/total\n",
    "print('Training Set Correction Rate: {:.2%}'.format(NB_train_correction_rate))\n",
    "total = len(price_test_data.index)\n",
    "correct = 0\n",
    "for index,data in price_test_data.iterrows():\n",
    "    predict = NB_predict(data, NB_prior, NB_cond0, NB_cond1, NB_attr_kind0, NB_attr_kind1)\n",
    "    if predict == (data['price_range'] // 2):\n",
    "        correct = correct + 1\n",
    "NB_test_correction_rate = correct/total\n",
    "print('Test Set Correction Rate: {:.2%}'.format(NB_test_correction_rate))\n",
    "end_time = time.time()\n",
    "NB_time = end_time - start_time\n",
    "print('Time: %f second' % NB_time)"
   ]
  },
  {
   "cell_type": "markdown",
   "metadata": {},
   "source": [
    "## Logistic Regression"
   ]
  },
  {
   "cell_type": "markdown",
   "metadata": {},
   "source": [
    "1. Data Preprocessing\n",
    "\n",
    "Key point is to normalization."
   ]
  },
  {
   "cell_type": "code",
   "execution_count": 7,
   "metadata": {},
   "outputs": [],
   "source": [
    "def LR_preprocess(x):\n",
    "    for attribute,value in x.iteritems():\n",
    "        if attribute == 'price_range':\n",
    "            break\n",
    "        x[attribute] = (x[attribute]-x[attribute].min())/(x[attribute].max()-x[attribute].min())\n",
    "    x['price_range'] = x['price_range'].map(lambda x: x//2)\n",
    "    x['0'] = 1\n",
    "    return x\n",
    "LR_data = LR_preprocess(pd.concat([price_train_data, price_valid_data, price_test_data]))\n",
    "LR_train_data = LR_data.truncate(before=0, after=1799)\n",
    "LR_test_data = LR_data.truncate(before=1800, after=1999)"
   ]
  },
  {
   "cell_type": "markdown",
   "metadata": {},
   "source": [
    "2. Model Implementation\n",
    "\n",
    "Using Gradient Descent approach. Each iteration choose 10% of data as validation set, choose model according to correction rate of validation set."
   ]
  },
  {
   "cell_type": "code",
   "execution_count": 8,
   "metadata": {},
   "outputs": [],
   "source": [
    "def sigmoid(x):\n",
    "    return 1/(1 + np.exp(-x))\n",
    "def LR_GD(training):\n",
    "    w = pd.Series(index=training.columns, dtype=np.double)\n",
    "    delta_w = pd.Series(index=training.columns, dtype=np.double)\n",
    "    w_final = pd.Series(index=training.columns, dtype=np.double)\n",
    "    for attribute,value in w.items():\n",
    "        if attribute == 'price_range':\n",
    "            continue\n",
    "        w.loc[attribute] = 0\n",
    "    step = 1\n",
    "    correction_rate = 0\n",
    "    for num in range(20):\n",
    "        train = training.sample(n=1600)\n",
    "        valid = training.sample(n=200)\n",
    "        total = len(valid.index)\n",
    "        for attribute,value in delta_w.items():\n",
    "            delta_w.loc[attribute] = 0\n",
    "        loss = 0\n",
    "        for index,data in train.iterrows():\n",
    "            a = 0\n",
    "            for attribute,value in data.items():\n",
    "                if attribute == 'price_range':\n",
    "                    continue\n",
    "                a += w[attribute] * value\n",
    "            y = sigmoid(a)\n",
    "            r = data.loc['price_range']\n",
    "            delta_w += (r-y)/1600*data\n",
    "            loss -= (r*math.log(y)+(1-r)*math.log(1-y))\n",
    "        w += step*delta_w\n",
    "        correct = 0\n",
    "        for index,data in valid.iterrows():\n",
    "            predict = LR_predict(data, w)\n",
    "            if predict == data['price_range']:\n",
    "                correct = correct + 1\n",
    "        if correct/total > correction_rate:\n",
    "            correction_rate = correct/total\n",
    "            w_final = w\n",
    "    return w_final\n",
    "def LR_predict(data, w):\n",
    "    ans = 0\n",
    "    for attribute,value in data.items():\n",
    "        if (attribute == 'price_range') | (attribute == '0'):\n",
    "            continue\n",
    "        ans += value * w.loc[attribute]\n",
    "    ans += w.loc['0']\n",
    "    if ans < 0:\n",
    "        return 0\n",
    "    else:\n",
    "        return 1\n",
    "def LR_train(train):\n",
    "    return LR_GD(train)\n",
    "start_time = time.time()\n",
    "w = LR_train(LR_train_data)"
   ]
  },
  {
   "cell_type": "markdown",
   "metadata": {},
   "source": [
    "3. Predict!"
   ]
  },
  {
   "cell_type": "code",
   "execution_count": 9,
   "metadata": {},
   "outputs": [
    {
     "name": "stdout",
     "output_type": "stream",
     "text": [
      "Training Set Correction Rate: 91.11%\n",
      "Test Set Correction Rate: 90.00%\n",
      "Time: 32.923425 second\n"
     ]
    }
   ],
   "source": [
    "correct = 0\n",
    "total = len(LR_train_data.index)\n",
    "for index,data in LR_train_data.iterrows():\n",
    "    predict = LR_predict(data, w)\n",
    "    if predict == data['price_range']:\n",
    "        correct = correct + 1\n",
    "LR_train_correction_rate = correct/total\n",
    "print('Training Set Correction Rate: {:.2%}'.format(LR_train_correction_rate))\n",
    "correct = 0\n",
    "total = len(LR_test_data.index)\n",
    "for index,data in LR_test_data.iterrows():\n",
    "    predict = LR_predict(data, w)\n",
    "    if predict == data['price_range']:\n",
    "        correct = correct + 1\n",
    "LR_test_correction_rate = correct/total\n",
    "print('Test Set Correction Rate: {:.2%}'.format(LR_test_correction_rate))\n",
    "end_time = time.time()\n",
    "LR_time = end_time - start_time\n",
    "print('Time: %f second' % LR_time)"
   ]
  },
  {
   "cell_type": "markdown",
   "metadata": {},
   "source": [
    "## Support Vector Machine"
   ]
  },
  {
   "cell_type": "markdown",
   "metadata": {},
   "source": [
    "1. Model Implementation & Predict!\n",
    "\n",
    "Use SVM in sklearn package."
   ]
  },
  {
   "cell_type": "code",
   "execution_count": 10,
   "metadata": {},
   "outputs": [
    {
     "name": "stdout",
     "output_type": "stream",
     "text": [
      "Training Set Correction Rate: 98.56%\n",
      "Test Set Correction Rate: 98.50%\n",
      "Time: 0.068737 second\n"
     ]
    }
   ],
   "source": [
    "from sklearn import svm\n",
    "def SVM_train(train, test):    \n",
    "    clf = svm.SVC()\n",
    "    clf.fit(train.drop(columns=['price_range']), train['price_range'])\n",
    "    train_score = clf.score(train.drop(columns=['price_range']), train['price_range'])\n",
    "    test_score = clf.score(test.drop(columns=['price_range']), test['price_range'])\n",
    "    return (train_score, test_score)\n",
    "SVM_train_data = pd.concat([price_train_data, price_valid_data])\n",
    "SVM_test_data = price_test_data\n",
    "SVM_train_data['price_range'] = SVM_train_data['price_range'].map(lambda x: x//2)\n",
    "SVM_test_data['price_range'] = SVM_test_data['price_range'].map(lambda x: x//2)\n",
    "start_time = time.time()\n",
    "(SVM_train_correction_rate, SVM_test_correction_rate) = SVM_train(SVM_train_data, SVM_test_data)\n",
    "print('Training Set Correction Rate: {:.2%}'.format(SVM_train_correction_rate))\n",
    "print('Test Set Correction Rate: {:.2%}'.format(SVM_test_correction_rate))\n",
    "end_time = time.time()\n",
    "SVM_time = end_time - start_time\n",
    "print('Time: %f second' % SVM_time)"
   ]
  },
  {
   "cell_type": "markdown",
   "metadata": {},
   "source": [
    "## Performance Analysis"
   ]
  },
  {
   "cell_type": "markdown",
   "metadata": {},
   "source": [
    "1. Accuracy"
   ]
  },
  {
   "cell_type": "code",
   "execution_count": 11,
   "metadata": {},
   "outputs": [
    {
     "data": {
      "text/html": [
       "<div>\n",
       "<style scoped>\n",
       "    .dataframe tbody tr th:only-of-type {\n",
       "        vertical-align: middle;\n",
       "    }\n",
       "\n",
       "    .dataframe tbody tr th {\n",
       "        vertical-align: top;\n",
       "    }\n",
       "\n",
       "    .dataframe thead th {\n",
       "        text-align: right;\n",
       "    }\n",
       "</style>\n",
       "<table border=\"1\" class=\"dataframe\">\n",
       "  <thead>\n",
       "    <tr style=\"text-align: right;\">\n",
       "      <th></th>\n",
       "      <th>Naive Bayesian</th>\n",
       "      <th>Logistic Regression</th>\n",
       "      <th>Support Vector Machine</th>\n",
       "    </tr>\n",
       "  </thead>\n",
       "  <tbody>\n",
       "    <tr>\n",
       "      <th>training set</th>\n",
       "      <td>0.950556</td>\n",
       "      <td>0.911111</td>\n",
       "      <td>0.985556</td>\n",
       "    </tr>\n",
       "    <tr>\n",
       "      <th>test set</th>\n",
       "      <td>0.925000</td>\n",
       "      <td>0.900000</td>\n",
       "      <td>0.985000</td>\n",
       "    </tr>\n",
       "  </tbody>\n",
       "</table>\n",
       "</div>"
      ],
      "text/plain": [
       "              Naive Bayesian  Logistic Regression  Support Vector Machine\n",
       "training set        0.950556             0.911111                0.985556\n",
       "test set            0.925000             0.900000                0.985000"
      ]
     },
     "execution_count": 11,
     "metadata": {},
     "output_type": "execute_result"
    }
   ],
   "source": [
    "accuracy_data = {\n",
    "    'Naive Bayesian':[NB_train_correction_rate, NB_test_correction_rate],\n",
    "    'Logistic Regression':[LR_train_correction_rate, LR_test_correction_rate],\n",
    "    'Support Vector Machine':[SVM_train_correction_rate, SVM_test_correction_rate]\n",
    "}\n",
    "accuracy = pd.DataFrame(accuracy_data, index=['training set','test set'], columns=['Naive Bayesian','Logistic Regression','Support Vector Machine'])\n",
    "accuracy"
   ]
  },
  {
   "cell_type": "code",
   "execution_count": 12,
   "metadata": {},
   "outputs": [
    {
     "data": {
      "image/png": "[encoded data removed]",
      "text/plain": [
       "<Figure size 432x288 with 1 Axes>"
      ]
     },
     "metadata": {
      "needs_background": "light"
     },
     "output_type": "display_data"
    }
   ],
   "source": [
    "x_data = ['Naive Bayesian', 'Logistic Regression', 'Support Vector Machine']\n",
    "y_data = [NB_train_correction_rate, LR_train_correction_rate, SVM_train_correction_rate]\n",
    "y_data2 = [NB_test_correction_rate, LR_test_correction_rate, SVM_test_correction_rate]\n",
    "bar_width = 0.3\n",
    "plt.bar(x=range(len(x_data)), height=y_data, label='Training Set',\n",
    "    color='steelblue', alpha=0.8, width=bar_width)\n",
    "plt.bar(x=np.arange(len(x_data))+bar_width, height=y_data2,\n",
    "    label='Test Set', color='indianred', alpha=0.8, width=bar_width)\n",
    "plt.title('Accuracy Comparison')\n",
    "plt.xticks(np.arange(len(x_data))+bar_width/2, x_data)\n",
    "plt.xlabel('model')\n",
    "plt.ylabel('accuracy')\n",
    "plt.legend()\n",
    "plt.show()"
   ]
  },
  {
   "cell_type": "markdown",
   "metadata": {},
   "source": [
    "According to the result, the SVM model from sklearn package has the best performance in accuracy, while the NB and LR model both has accuracy about 90%.\n",
    "\n",
    "Consider the fact that NB and LR model is written from scratch, the result is acceptable."
   ]
  },
  {
   "cell_type": "markdown",
   "metadata": {},
   "source": [
    "2. Time"
   ]
  },
  {
   "cell_type": "code",
   "execution_count": 13,
   "metadata": {},
   "outputs": [
    {
     "data": {
      "text/html": [
       "<div>\n",
       "<style scoped>\n",
       "    .dataframe tbody tr th:only-of-type {\n",
       "        vertical-align: middle;\n",
       "    }\n",
       "\n",
       "    .dataframe tbody tr th {\n",
       "        vertical-align: top;\n",
       "    }\n",
       "\n",
       "    .dataframe thead th {\n",
       "        text-align: right;\n",
       "    }\n",
       "</style>\n",
       "<table border=\"1\" class=\"dataframe\">\n",
       "  <thead>\n",
       "    <tr style=\"text-align: right;\">\n",
       "      <th></th>\n",
       "      <th>Naive Bayesian</th>\n",
       "      <th>Logistic Regression</th>\n",
       "      <th>Support Vector Machine</th>\n",
       "    </tr>\n",
       "  </thead>\n",
       "  <tbody>\n",
       "    <tr>\n",
       "      <th>time</th>\n",
       "      <td>3.396934</td>\n",
       "      <td>32.923425</td>\n",
       "      <td>0.068737</td>\n",
       "    </tr>\n",
       "  </tbody>\n",
       "</table>\n",
       "</div>"
      ],
      "text/plain": [
       "      Naive Bayesian  Logistic Regression  Support Vector Machine\n",
       "time        3.396934            32.923425                0.068737"
      ]
     },
     "execution_count": 13,
     "metadata": {},
     "output_type": "execute_result"
    }
   ],
   "source": [
    "time_data = {\n",
    "    'Naive Bayesian': NB_time,\n",
    "    'Logistic Regression': LR_time,\n",
    "    'Support Vector Machine': SVM_time\n",
    "}\n",
    "time_table = pd.DataFrame(time_data, index=['time'], columns=['Naive Bayesian','Logistic Regression','Support Vector Machine'])\n",
    "time_table"
   ]
  },
  {
   "cell_type": "code",
   "execution_count": 14,
   "metadata": {},
   "outputs": [
    {
     "data": {
      "image/png": "[encoded data removed]",
      "text/plain": [
       "<Figure size 432x288 with 1 Axes>"
      ]
     },
     "metadata": {
      "needs_background": "light"
     },
     "output_type": "display_data"
    }
   ],
   "source": [
    "x_data = ['Naive Bayesian', 'Logistic Regression', 'Support Vector Machine']\n",
    "y_data = [NB_time, LR_time, SVM_time]\n",
    "bar_width = 0.3\n",
    "plt.bar(x=range(len(x_data)), height=y_data, label='Time',\n",
    "    color='steelblue', alpha=0.8, width=bar_width)\n",
    "plt.title('Accuracy Comparison')\n",
    "plt.xticks(np.arange(len(x_data)), x_data)\n",
    "plt.xlabel('model')\n",
    "plt.ylabel('time(s)')\n",
    "plt.legend()\n",
    "plt.show()"
   ]
  },
  {
   "cell_type": "markdown",
   "metadata": {},
   "source": [
    "The result indicates a significant performance difference between models.\n",
    "\n",
    "SVM from sklearn package needs about 0.1s , while my LR from scratch runs very slowly...."
   ]
  },
  {
   "cell_type": "markdown",
   "metadata": {},
   "source": [
    "## Summary"
   ]
  },
  {
   "cell_type": "markdown",
   "metadata": {},
   "source": [
    "1. Naive Bayesian\n",
    "\n",
    "NB model is easy for implementation and prediction, and has both accuracy and timing performance in the middle of 3. Consider the fact that it's easy enough in theory, but often has relatively good accuracy while running fast,  when facing situations where you need to deal with massive amount of data, it's worth a try. "
   ]
  },
  {
   "cell_type": "markdown",
   "metadata": {},
   "source": [
    "2. Logistic Regression\n",
    "\n",
    "LR model has acceptable accuracy(perhaps better when increase the number of iterations), but it's suffered from worst timing performance. In my implementaion, I choose the original gradient descent approach, which use the whole dataset to calculate gradient(delta_w) each iteration. If switching to MiniBatch or Adam, it may have better timing performance."
   ]
  },
  {
   "cell_type": "markdown",
   "metadata": {},
   "source": [
    "3. Support Vector Machine\n",
    "\n",
    "SVM model has the best accuracy and shortest running time amoung 3 models. More importantly, due to theoretical support (choose the minimum functional margin among vectors), SVM tend to avoid the problem of over-fitting."
   ]
  }
 ],
 "metadata": {
  "kernelspec": {
   "display_name": "conda_python3",
   "language": "python",
   "name": "conda_python3"
  },
  "language_info": {
   "codemirror_mode": {
    "name": "ipython",
    "version": 3
   },
   "file_extension": ".py",
   "mimetype": "text/x-python",
   "name": "python",
   "nbconvert_exporter": "python",
   "pygments_lexer": "ipython3",
   "version": "3.6.5"
  }
 },
 "nbformat": 4,
 "nbformat_minor": 4
}
